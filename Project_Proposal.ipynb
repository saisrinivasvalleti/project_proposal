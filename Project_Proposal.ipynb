{
  "nbformat": 4,
  "nbformat_minor": 0,
  "metadata": {
    "colab": {
      "name": "Untitled2.ipynb",
      "provenance": [],
      "collapsed_sections": [],
      "authorship_tag": "ABX9TyMkoFVdkNNpUwW9QraFw84l",
      "include_colab_link": true
    },
    "kernelspec": {
      "name": "python3",
      "display_name": "Python 3"
    },
    "language_info": {
      "name": "python"
    }
  },
  "cells": [
    {
      "cell_type": "markdown",
      "metadata": {
        "id": "view-in-github",
        "colab_type": "text"
      },
      "source": [
        "<a href=\"https://colab.research.google.com/github/saisrinivasvalleti/project_proposal/blob/main/Project_Proposal.ipynb\" target=\"_parent\"><img src=\"https://colab.research.google.com/assets/colab-badge.svg\" alt=\"Open In Colab\"/></a>"
      ]
    },
    {
      "cell_type": "code",
      "execution_count": null,
      "metadata": {
        "id": "FzAvqxVq6-JM"
      },
      "outputs": [],
      "source": [
        "PROJECT PROPOSAL\n",
        "PROJECT TITLE:\n",
        " AUTOMATIC ATTENDANCE SYSTEM\n",
        "TEAM MEMBERS:\n",
        "•\tSujana Vadlamudi\n",
        "•\tValleti Sai Srinivas\n",
        "•\tPradeep Kumar Ginjupally\n",
        "MOTIVATION:\n",
        "Many hours are wasted in schools and universities for taking students attendance. The attendance system assists teachers in recording students' attendance online during class and reduces manual effort.\n",
        "SIGNIFICANCE:\n",
        "Time-Saving is one of the major significance of this project. Staff and students in secondary schools, colleges, and universities can benefit from automated attendance systems.\n",
        "OBJECTIVE;\n",
        "The project's goal is to automate the attendance system by employing a camera that detects faces and automatically registers people's attendance.\n",
        "FEATURES:\n",
        "Calendar Integration\n",
        "Automated Communication\n",
        "Clocking-in and out.\n",
        " \n",
        "REFERENCE:\n",
        "[1] Khan, M., Chakraborty, S., Astya, R., & Khepra, S. (2019, October). Face Detection and Recognition Using OpenCV. In 2019 International Conference on Computing, Communication, and Intelligent Systems (ICCCIS) (pp. 116-119). IEEE.\n",
        "[2] Halidu, M. K., Bagheri-Zadeh, P., Sheikh-Akbari, A., & Behringer, R. (2019, June). Pca in the context of face recognition with the image enlargement techniques. In 2019 8th Mediterranean Conference on Embedded Computing (MECO) (pp. 1-5). IEEE.\n",
        "[3] Wijaya, I. G. P. S., Husodo, A. Y., & Arimbawa, I. W. A. (2016, October). Real time face recognition using DCT coefficients based face descriptor. In 2016 International Conference on Informatics and Computing (ICIC) (pp. 142-147). IEEE.\n",
        "\n"
      ]
    }
  ]
}